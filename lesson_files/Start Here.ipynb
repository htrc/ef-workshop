{
 "cells": [
  {
   "cell_type": "markdown",
   "metadata": {},
   "source": [
    "# Hello World\n",
    "\n",
    "This is an example of Markdown text in a notebook. Select me and see how the toolbar above says \"Markdown\"\n",
    "\n",
    "- *Change me!* Enter Edit Mode by selecting this cell and pressing Enter (Windows) or Return (Mac OS).\n",
    "- To leave edit mode, click <i class=\"fa-step-forward fa\"></i> in the toolbar or press Ctrl+Enter (Cmd+Return on Mac OS)."
   ]
  },
  {
   "cell_type": "code",
   "execution_count": null,
   "metadata": {
    "collapsed": false
   },
   "outputs": [
    {
     "name": "stdout",
     "output_type": "stream",
     "text": [
      "This is Python code\n"
     ]
    }
   ],
   "source": [
    "print(\"This is Python code\")"
   ]
  }
 ],
 "metadata": {
  "kernelspec": {
   "display_name": "Python 3",
   "language": "python",
   "name": "python3"
  },
  "language_info": {
   "codemirror_mode": {
    "name": "ipython",
    "version": 3
   },
   "file_extension": ".py",
   "mimetype": "text/x-python",
   "name": "python",
   "nbconvert_exporter": "python",
   "pygments_lexer": "ipython3",
   "version": "3.5.1"
  }
 },
 "nbformat": 4,
 "nbformat_minor": 0
}
