{
 "cells": [
  {
   "cell_type": "markdown",
   "metadata": {
    "collapsed": true
   },
   "source": [
    "# HTRC Feature Reader Installation\n",
    "\n",
    "## Installing Anaconda\n",
    "\n",
    "For this workshop, we'll need to install the *HTRC Feature Reader library* for Python, alongside the data science libraries that it depends on.\n",
    "\n",
    "We'll install it using Anaconda, an easy-to-install Python distribution that already includes most of the dependencies for the HTRC Feature Reader.\n",
    "\n",
    "To install Anaconda, download the installer for your system from the Anaconda download page ([https://www.continuum.io/downloads](https://www.continuum.io/downloads)) and follow their instructions for installation of either the Windows 64-bit Graphical Installer or the Mac OS X 64-bit Graphical Installer. You can choose either version of Python for this lesson, but we recommend Python 3.\n",
    "\n",
    "![Conda Install](./images/conda-install.PNG)\n",
    "\n",
    "> Advanced users: Why Anaconda? The HTRC Feature Reader depends on some fast low-level libraries that - because of optimizations specific to your system - may be slow if improperly installed. Anaconda make it easier to get the installation right."
   ]
  },
  {
   "cell_type": "markdown",
   "metadata": {},
   "source": [
    "## Installing the HTRC Feature Reader\n",
    "\n",
    "Once you have installed Anaconda, you need to open a command line to add the HTRC Feature Reader. This (should) be the only time you need a command line in this workshop!\n",
    "\n",
    "First open a terminal application:\n",
    "\n",
    "- *Windows*: Open 'Command Prompt' from the Start Menu and type: `activate`.\n",
    "- *Mac OX/Linux*: Open 'Terminal' from Applications and type `source activate`.\n",
    "\n",
    "![If Anaconda was properly installed, your command line should look like similar to this](./images/activating-env.png)\n",
    "\n",
    "Now, you need to type one command:\n",
    "\n",
    "```bash\n",
    "pip install htrc-feature-reader gensim\n",
    "```\n",
    "\n",
    "This command installs the HTRC Feature Reader and its necessary dependencies. It also installs a library that we'll use for an optional module at the end of the lesson (if it causes issues, just remove the `gensim` part for now).\n",
    "\n",
    "That's it! At this point you have everything necessary to start reading HTRC Feature Reader files.\n",
    "\n",
    "> *psst*, advanced users: If you installed the HTRC Feature Reader *without* Anaconda, you'll need to install two additional libraries for this lesson with `pip install matplotlib jupyter`. If you think your code is going slow, you should check that Numpy has access to [BLAS and LAPACK libraries](http://stackoverflow.com/a/19350234/233577) and install [Pandas recommended packages](http://pandas.pydata.org/pandas-docs/version/0.15.2/install.html#recommended-dependencies). The rest is up to you, advanced user!\n",
    "\n",
    "**Addendum**: If you get an error about `ujson` with the above pip command, try to first install it separately with `conda install ujson`, then try the pip command again."
   ]
  }
 ],
 "metadata": {
  "kernelspec": {
   "display_name": "Python 3",
   "language": "python",
   "name": "python3"
  },
  "language_info": {
   "codemirror_mode": {
    "name": "ipython",
    "version": 3
   },
   "file_extension": ".py",
   "mimetype": "text/x-python",
   "name": "python",
   "nbconvert_exporter": "python",
   "pygments_lexer": "ipython3",
   "version": "3.5.1"
  }
 },
 "nbformat": 4,
 "nbformat_minor": 0
}
