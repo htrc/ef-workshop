{
 "cells": [
  {
   "cell_type": "markdown",
   "metadata": {},
   "source": [
    "# Hello World\n",
    "\n",
    "## Download Lesson Files\n",
    "\n",
    "The lesson files for this workshop can be downloaded at [https://github.com/htrc/ef-workshop/releases](https://github.com/htrc/ef-workshop/releases). Download them and extract to an easy to access folder.\n",
    "\n",
    "## Start a Notebook\n",
    "\n",
    "Using Python the traditional way -- writing a script to a file and running it -- can become clunky for text analysis, where the ability to look at and interact with data is invaluable.\n",
    "This lesson uses an alternative approach: Jupyter notebooks.\n",
    "\n",
    "Jupyter gives you an interactive version of Python (called IPython) that you can access in a \"notebook\" format in your web browser. This format has many benefits. The interactivity means that you don't need to re-run an entire script each time: you can run or re-run blocks of code as you go along, without losing your enviroment (i.e. the variables and code that are already loaded). The notebook format makes it easier to examine bits of information as you go along, and allows for text blocks to intersperse a narrative.\n",
    "\n",
    "![Jupyter Code Blocks](images/notebook1.PNG)\n",
    "\n",
    "From the Start Menu (Windows) or Applications directory (Mac OS), open \"Jupyter notebook\". This will start Jupyter on your computer and open a browser window. Keep the console window in the background, the browser is where the magic happens.\n",
    "\n",
    "![Jupyter in the Start Menu (Windows)](images/open-notebook.PNG)\n",
    "\n",
    "If your web browser does not open automatically, Jupyter can be accessed by going to the address \"localhost:8888\" - or a different port number, which is noted in the console (\"The Jupyter Notebook is running at...\"):\n",
    "\n",
    "![Jupyter in the browser after being started](images/notebook-start.png)\n",
    "\n",
    "Jupyter is now showing a directory structure from your home folder. Navigate to the lesson folder where you unzipped **lesson-files.zip**.\n",
    "\n",
    "In the lesson folder, open `Start Here.pynb`: your first notebook!\n",
    "\n",
    "![Opening the *Start Here* notebook](images/notebook-hello-world.png)\n",
    "\n",
    "Here there are instructions for editing a cell of text or code, and running it. Try editing and running a cell, and notice that it only affects itself. Here are a few tips for using the notebook as the lesson continues:\n",
    "\n",
    "- New cells are created with the <i class=\"fa-plus fa\"> Plus</i> button in the toolbar. When not editing, this can be done by pressing 'b' on your keyboard.\n",
    "- New cells are \"code\" cells by default, but can be changed to \"Markdown\" (a type of text input) in a dropdown menu on the toolbar. In edit mode, you can paste in code from this lesson or type it yourself.\n",
    "- Switching a cell to edit mode is done by pressing Enter.\n",
    "- Running a cell is done by clicking <i class=\"fa-step-forward fa\"> Play</i> in the toolbar, or with `Ctrl+Enter` (`Cmd+Return` on Mac OS). To run a cell and immediately move forward, use `Shift+Enter` instead.\n",
    "\n",
    "> An example of a full-fledged notebook is included with the lesson files in `example/Lesson Draft.ipynb`.\n",
    "\n",
    "Before continuing, click on the title to change it to something more descriptive than \"Start Here\"."
   ]
  },
  {
   "cell_type": "markdown",
   "metadata": {},
   "source": [
    "## Hello World\n",
    "To test that the Feature Reader installed correctly and to try running code in a notebook, we'll try running some code.\n",
    "\n",
    "1. Create a new cell in your notebook with the *plus* button.\n",
    "2. Make sure the description of the cell in the toolbar dropdown above is 'Code'.\n",
    "3. Enter the code below into the cell. We'll explain shortly what it does, for now we want to make sure it works. (Tip:If you don't want to type out the file path to `data/sample-file1.basic.json.bz2`, you can press TAB on your keyboard to auto-complete once you've started typing.)\n",
    "4. Run the code by pressing `Shift+Enter` or pushing the *play* button in the toolbar. we are expecting it to print the title of a book called *June*."
   ]
  },
  {
   "cell_type": "code",
   "execution_count": null,
   "metadata": {
    "collapsed": false
   },
   "outputs": [
    {
     "data": {
      "text/plain": [
       "'June / by Edith Barnard Delano ; with illustrations.'"
      ]
     },
     "execution_count": 1,
     "metadata": {},
     "output_type": "execute_result"
    }
   ],
   "source": [
    "from htrc_features import FeatureReader\n",
    "# Remember to use '/' for windows paths, '\\' for Mac or Windows\n",
    "fr = FeatureReader('data/sample-file1.basic.json.bz2')\n",
    "fr.first().title"
   ]
  }
 ],
 "metadata": {
  "kernelspec": {
   "display_name": "Python 3",
   "language": "python",
   "name": "python3"
  },
  "language_info": {
   "codemirror_mode": {
    "name": "ipython",
    "version": 3
   },
   "file_extension": ".py",
   "mimetype": "text/x-python",
   "name": "python",
   "nbconvert_exporter": "python",
   "pygments_lexer": "ipython3",
   "version": "3.5.1"
  }
 },
 "nbformat": 4,
 "nbformat_minor": 0
}
